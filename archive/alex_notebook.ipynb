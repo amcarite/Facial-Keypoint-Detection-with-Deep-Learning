{
 "cells": [
  {
   "cell_type": "code",
   "execution_count": 13,
   "metadata": {},
   "outputs": [
    {
     "name": "stdout",
     "output_type": "stream",
     "text": [
      "OK\n",
      "Tensorflow version 2.0.0\n"
     ]
    }
   ],
   "source": [
    "%matplotlib inline\n",
    "\n",
    "\n",
    "import numpy as np\n",
    "import pandas as pd\n",
    "from sklearn.datasets import fetch_openml\n",
    "from sklearn.metrics import classification_report\n",
    "from sklearn.neighbors import KNeighborsClassifier\n",
    "import time\n",
    "import os.path\n",
    "\n",
    "from tensorflow.keras.models import Sequential \n",
    "from tensorflow.keras.layers import Dense, Activation, Dropout, Flatten\n",
    "from tensorflow.keras import optimizers\n",
    "from tensorflow.keras.layers import Conv2D\n",
    "from tensorflow.keras.layers import MaxPooling2D\n",
    "\n",
    "np.random.seed(0)\n",
    "print (\"OK\")\n",
    "import tensorflow as tf\n",
    "print(\"Tensorflow version\", tf.__version__)"
   ]
  },
  {
   "cell_type": "code",
   "execution_count": 14,
   "metadata": {},
   "outputs": [
    {
     "data": {
      "text/plain": [
       "array([0.5488135])"
      ]
     },
     "execution_count": 14,
     "metadata": {},
     "output_type": "execute_result"
    }
   ],
   "source": [
    "np.random.rand(1)\n"
   ]
  },
  {
   "cell_type": "code",
   "execution_count": 22,
   "metadata": {},
   "outputs": [],
   "source": [
    "#Checking to see if the train/test csv are loaded, if not, unzip from dir\n",
    "if (os.path.exists('training.csv') == False):\n",
    "    !unzip training.zip\n",
    "\n",
    "if (os.path.exists('test.csv') == False):\n",
    "    !unzip test.zip\n"
   ]
  },
  {
   "cell_type": "markdown",
   "metadata": {},
   "source": [
    "### Load Data "
   ]
  },
  {
   "cell_type": "code",
   "execution_count": 3,
   "metadata": {},
   "outputs": [
    {
     "name": "stdout",
     "output_type": "stream",
     "text": [
      "(7049, 31)\n",
      "(1783, 2)\n"
     ]
    }
   ],
   "source": [
    "!unzip test.zip\n",
    "!unzip train.zip\n",
    "train = pd.read_csv('training.csv')\n",
    "test = pd.read_csv('test.csv')\n",
    "print(train.shape)\n",
    "print(test.shape)"
   ]
  },
  {
   "cell_type": "code",
   "execution_count": 4,
   "metadata": {},
   "outputs": [],
   "source": [
    "#Need to clean up a few NA's in our set\n"
   ]
  },
  {
   "cell_type": "code",
   "execution_count": 5,
   "metadata": {},
   "outputs": [],
   "source": [
    "def two_dim(image):\n",
    "    'takes in an image vector of 9,216 pixels and makes it into a 96x96 shape'\n",
    "    return np.array(image.split(' '), dtype=int).reshape(96, 96)\n"
   ]
  },
  {
   "cell_type": "code",
   "execution_count": 6,
   "metadata": {},
   "outputs": [
    {
     "name": "stdout",
     "output_type": "stream",
     "text": [
      "Train examples 5000\n",
      "Train features 9216\n",
      "mini_Train examples 1000\n",
      "Dev examples 2049\n"
     ]
    }
   ],
   "source": [
    "X = np.array([two_dim(train.Image[i]) for i in range(len(train))])\n",
    "X = X / 255.0\n",
    "Y = np.array([train.drop('Image', axis = 1).iloc[i] for i in range(len(train))])\n",
    "\n",
    "#Need to make X_test and Y_test (will we have a Y_test? I think that may be handled in Kaggle)\n",
    "\n",
    "shuffle = np.random.permutation(np.arange(X.shape[0]))\n",
    "X, Y = X[shuffle], Y[shuffle]\n",
    "train_data, train_labels = X[:5000], Y[:5000]\n",
    "mini_train_data, mini_train_labels = X[:1000], Y[:1000]\n",
    "dev_data, dev_labels = X[5000:], Y[5000:]\n",
    "numFeatures = train_data[1].size\n",
    "numTrainExamples = train_data.shape[0]\n",
    "numMiniExamples = mini_train_data.shape[0]\n",
    "numDevExamples = dev_data.shape[0]\n",
    "# numTestExamples = test_data.shape[0]\n",
    "print(f'Train examples {numTrainExamples}')\n",
    "print(f'Train features {numFeatures}')\n",
    "print(f'mini_Train examples {numMiniExamples}')\n",
    "print(f'Dev examples {numDevExamples}')\n",
    "# print(f'Test examples {numTestExamples}')"
   ]
  },
  {
   "cell_type": "code",
   "execution_count": null,
   "metadata": {},
   "outputs": [],
   "source": []
  },
  {
   "cell_type": "markdown",
   "metadata": {},
   "source": []
  },
  {
   "cell_type": "code",
   "execution_count": null,
   "metadata": {},
   "outputs": [],
   "source": []
  },
  {
   "cell_type": "code",
   "execution_count": null,
   "metadata": {},
   "outputs": [],
   "source": []
  }
 ],
 "metadata": {
  "interpreter": {
   "hash": "0adf783bbbd88482478cbb33b573058a9c80ad7e3b8253c9b953b19ddbee4c21"
  },
  "kernelspec": {
   "display_name": "Python 3.7.11 ('deep')",
   "language": "python",
   "name": "python3"
  },
  "language_info": {
   "codemirror_mode": {
    "name": "ipython",
    "version": 3
   },
   "file_extension": ".py",
   "mimetype": "text/x-python",
   "name": "python",
   "nbconvert_exporter": "python",
   "pygments_lexer": "ipython3",
   "version": "3.7.11"
  },
  "orig_nbformat": 4
 },
 "nbformat": 4,
 "nbformat_minor": 2
}
